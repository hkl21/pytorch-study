{
 "cells": [
  {
   "cell_type": "markdown",
   "metadata": {},
   "source": [
    " autograd.Variable is the central class of the package\n",
    " .backward() all the gradients computed automatically\n",
    " can access the raw tensor through the .data attribute\n",
    " while the gradient w.r.t this variable is accumulated into .grad\n",
    " \n",
    " Each variable has a .grad_fn attribute that references a function that has created the Variable"
   ]
  },
  {
   "cell_type": "code",
   "execution_count": 1,
   "metadata": {
    "collapsed": true
   },
   "outputs": [],
   "source": [
    "import torch\n",
    "from torch.autograd import Variable"
   ]
  },
  {
   "cell_type": "code",
   "execution_count": 29,
   "metadata": {},
   "outputs": [
    {
     "name": "stdout",
     "output_type": "stream",
     "text": [
      "None\n",
      "<AddBackward0 object at 0x7fdf18307da0>\n",
      "Variable containing:\n",
      " 27  27\n",
      " 27  27\n",
      "[torch.FloatTensor of size 2x2]\n",
      " Variable containing:\n",
      " 27\n",
      "[torch.FloatTensor of size 1]\n",
      "\n"
     ]
    }
   ],
   "source": [
    "x = Variable(torch.ones(2, 2), requires_grad = True)\n",
    "print(x.grad_fn)\n",
    "y = x + 2 # y was created \n",
    "print(y.grad_fn)\n",
    "\n",
    "z =  y * y *3\n",
    "out = z.mean()\n",
    "print(z, out)"
   ]
  },
  {
   "cell_type": "markdown",
   "metadata": {},
   "source": [
    "Gradients for backprop"
   ]
  },
  {
   "cell_type": "code",
   "execution_count": 30,
   "metadata": {},
   "outputs": [
    {
     "name": "stdout",
     "output_type": "stream",
     "text": [
      "Variable containing:\n",
      " 4.5000  4.5000\n",
      " 4.5000  4.5000\n",
      "[torch.FloatTensor of size 2x2]\n",
      "\n"
     ]
    }
   ],
   "source": [
    "out.backward() # Compute the sum of gradients of given variable w.r.t graph leaves\n",
    "# grad can be implicitly created only for scalar outputs\n",
    "print(x.grad) # variable 지정한 x가 z까지 흐름\n",
    "# z = 3(xi + 2)^2, d/x = 3/2(xi+2)"
   ]
  },
  {
   "cell_type": "code",
   "execution_count": 51,
   "metadata": {},
   "outputs": [
    {
     "name": "stdout",
     "output_type": "stream",
     "text": [
      "Variable containing:\n",
      " -188.9602\n",
      " -774.0679\n",
      " 1413.9203\n",
      "[torch.FloatTensor of size 3]\n",
      "\n"
     ]
    }
   ],
   "source": [
    "x = torch.randn(3)\n",
    "x = Variable(x, requires_grad = True)\n",
    "\n",
    "y = x * 2\n",
    "while y.data.norm() < 1000:\n",
    "    y = y * 2\n",
    "print(y)"
   ]
  },
  {
   "cell_type": "code",
   "execution_count": 64,
   "metadata": {},
   "outputs": [
    {
     "name": "stdout",
     "output_type": "stream",
     "text": [
      "Variable containing:\n",
      "  2662.4004\n",
      " 26624.0000\n",
      "     2.6624\n",
      "[torch.FloatTensor of size 3]\n",
      "\n"
     ]
    }
   ],
   "source": [
    "grad = torch.FloatTensor([0.1, 1.0, 0.0001])\n",
    "y.backward(grad)\n",
    "print(x.grad)\n",
    "\n",
    "# X에 대한 그래피를 만든다  = Variable(x, requires_grad = True)\n",
    "# y의 계산에서 x가 들어감. grad를 x에 차원에 맞춰서 만들어줌\n",
    "# y.backward y의 backprop 계산\n",
    "# x의 grad를 출력"
   ]
  }
 ],
 "metadata": {
  "kernelspec": {
   "display_name": "Python 3",
   "language": "python",
   "name": "python3"
  },
  "language_info": {
   "codemirror_mode": {
    "name": "ipython",
    "version": 3
   },
   "file_extension": ".py",
   "mimetype": "text/x-python",
   "name": "python",
   "nbconvert_exporter": "python",
   "pygments_lexer": "ipython3",
   "version": "3.6.3"
  }
 },
 "nbformat": 4,
 "nbformat_minor": 2
}
